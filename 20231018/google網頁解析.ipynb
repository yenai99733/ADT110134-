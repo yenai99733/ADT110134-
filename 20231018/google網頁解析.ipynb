{
  "nbformat": 4,
  "nbformat_minor": 0,
  "metadata": {
    "colab": {
      "provenance": []
    },
    "kernelspec": {
      "name": "python3",
      "display_name": "Python 3"
    },
    "language_info": {
      "name": "python"
    }
  },
  "cells": [
    {
      "cell_type": "code",
      "execution_count": 8,
      "metadata": {
        "colab": {
          "base_uri": "https://localhost:8080/"
        },
        "id": "gMHtNZUKkxOD",
        "outputId": "507c25f4-0aec-4eaf-f62d-ebe236225d93"
      },
      "outputs": [
        {
          "output_type": "stream",
          "name": "stdout",
          "text": [
            "標題：How to Make Your Own Unity 2D Video Gameunity.com › how-to › beginner-2D-game-resources\n",
            "網址：/url?q=https://unity.com/how-to/beginner-2D-game-resources&sa=U&ved=2ahUKEwjCj53Xif-BAxUHpIkEHZJOCXMQFnoECAUQAg&usg=AOvVaw3yNqrZi968eOUyqyHNicsX\n",
            "\n",
            "標題：Unity 2D suite for game creatorsunity.com › solutions\n",
            "網址：/url?q=https://unity.com/solutions/2d&sa=U&ved=2ahUKEwjCj53Xif-BAxUHpIkEHZJOCXMQFnoECAgQAg&usg=AOvVaw0ZasYnikN1Tz3e4uZoLmdv\n",
            "\n",
            "標題：How to make a 2D Game in Unity - YouTubewww.youtube.com › watch\n",
            "網址：/url?q=https://www.youtube.com/watch%3Fv%3Don9nwbZngyw&sa=U&ved=2ahUKEwjCj53Xif-BAxUHpIkEHZJOCXMQtwJ6BAgJEAE&usg=AOvVaw1xiEelXNx3DQSMGM9qF22R\n",
            "\n",
            "標題：\n",
            "網址：/url?q=https://www.youtube.com/watch%3Fv%3Don9nwbZngyw&sa=U&ved=2ahUKEwjCj53Xif-BAxUHpIkEHZJOCXMQuAJ6BAgJEAI&usg=AOvVaw23NqLDXoCnLbyAn5bU3bTW\n",
            "\n",
            "標題：Creating a 2D game - Unity - Manualdocs.unity3d.com › Manual\n",
            "網址：/url?q=https://docs.unity3d.com/Manual/Quickstart2DCreate.html&sa=U&ved=2ahUKEwjCj53Xif-BAxUHpIkEHZJOCXMQFnoECAQQAg&usg=AOvVaw362_dl_uBEAejaAxXAGxkP\n",
            "\n",
            "標題：2D game development - Unity - Manualdocs.unity3d.com › Manual › Unity2D\n",
            "網址：/url?q=https://docs.unity3d.com/Manual/Unity2D.html&sa=U&ved=2ahUKEwjCj53Xif-BAxUHpIkEHZJOCXMQFnoECAAQAg&usg=AOvVaw1fUM651Ljw51Jq9xIL03xJ\n",
            "\n",
            "標題：Make a 2D Video Game With Unity - Instructableswww.instructables.com › Circuits › Software\n",
            "網址：/url?q=https://www.instructables.com/Make-A-2D-Infinite-Runner-with-Unity/&sa=U&ved=2ahUKEwjCj53Xif-BAxUHpIkEHZJOCXMQFnoECAYQAg&usg=AOvVaw20osez-wNBJKl03WmLO2gh\n",
            "\n",
            "標題：unity-2d-game · GitHub Topicsgithub.com › topics › unity-2d-game\n",
            "網址：/url?q=https://github.com/topics/unity-2d-game&sa=U&ved=2ahUKEwjCj53Xif-BAxUHpIkEHZJOCXMQFnoECAEQAg&usg=AOvVaw3MFLtAcaPUoD1_cTpHWmn9\n",
            "\n",
            "標題：Unity2D - Develop 2D games using Unity - Redditwww.reddit.com › Unity2D\n",
            "網址：/url?q=https://www.reddit.com/r/Unity2D/&sa=U&ved=2ahUKEwjCj53Xif-BAxUHpIkEHZJOCXMQFnoECAMQAg&usg=AOvVaw0YNWSrzed6ZQRIV8erMwTO\n",
            "\n",
            "標題：Learn How to Make a 2D Game in Unity Step-by-Step - Udemy Blogblog.udemy.com › how-to-make-a-2d-game-in-unity\n",
            "網址：/url?q=https://blog.udemy.com/how-to-make-a-2d-game-in-unity/&sa=U&ved=2ahUKEwjCj53Xif-BAxUHpIkEHZJOCXMQFnoECAIQAg&usg=AOvVaw1Gg-5lYBD11QBf42e3ltkZ\n",
            "\n",
            "標題：24 Best Unity 2d Game Services To Buy Online - Fiverrwww.fiverr.com › gigs › unity-2d-game\n",
            "網址：/url?q=https://www.fiverr.com/gigs/unity-2d-game&sa=U&ved=2ahUKEwjCj53Xif-BAxUHpIkEHZJOCXMQFnoECAcQAg&usg=AOvVaw1BixA87o0zfNOJ57lIFCKG\n",
            "\n"
          ]
        }
      ],
      "source": [
        "import requests\n",
        "from bs4 import BeautifulSoup\n",
        "\n",
        "google_url = 'https://www.google.com.tw/search'\n",
        "\n",
        "my_params = {'q':'Unity2D Game'}\n",
        "r = requests.get(google_url,params = my_params)\n",
        "\n",
        "soup = BeautifulSoup(r.text,'html.parser')\n",
        "#print(soup.prettify())\n",
        "\n",
        "items = soup.select('div.kCrYT > a[href^=\"/url\"]')\n",
        "\n",
        "for i in items:\n",
        "  print(\"標題：\" + i.text)\n",
        "  print(\"網址：\" + i.get('href'))\n",
        "  print()"
      ]
    }
  ]
}