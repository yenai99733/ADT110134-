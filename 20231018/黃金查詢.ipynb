{
  "nbformat": 4,
  "nbformat_minor": 0,
  "metadata": {
    "colab": {
      "provenance": []
    },
    "kernelspec": {
      "name": "python3",
      "display_name": "Python 3"
    },
    "language_info": {
      "name": "python"
    }
  },
  "cells": [
    {
      "cell_type": "code",
      "execution_count": 2,
      "metadata": {
        "colab": {
          "base_uri": "https://localhost:8080/"
        },
        "id": "X3eCVXk3fJqe",
        "outputId": "36c0baea-93db-447f-96e4-480023d3fcf8"
      },
      "outputs": [
        {
          "output_type": "stream",
          "name": "stdout",
          "text": [
            "黃金回售 -> 1993\n",
            "黃金買進 -> 2020\n"
          ]
        }
      ],
      "source": [
        "import time\n",
        "import urllib.request as request\n",
        "from bs4 import BeautifulSoup as sp\n",
        "\n",
        "local_time = time.ctime(time.time())\n",
        "\n",
        "url=\"https://rate.bot.com.tw/gold?Lang=zh-TW\"\n",
        "\n",
        "with request.urlopen(url) as response:\n",
        "  data=response.read().decode(\"utf-8\")\n",
        "  root=sp(data,\"html.parser\")\n",
        "  #print(root)\n",
        "  gold_in=(root.find_all(\"td\")[5].text.replace(\"回售\",\"\").strip())\n",
        "  gold_out=(root.find_all(\"td\")[2].text.replace(\"買進\",\"\").strip())\n",
        "  print(\"黃金回售 ->\",gold_in)\n",
        "  print(\"黃金買進 ->\",gold_out)\n",
        "  time.sleep(1)"
      ]
    }
  ]
}